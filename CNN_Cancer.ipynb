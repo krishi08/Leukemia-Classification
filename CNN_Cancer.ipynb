{
  "nbformat": 4,
  "nbformat_minor": 0,
  "metadata": {
    "colab": {
      "name": "CNN_Cancer.ipynb",
      "provenance": [],
      "collapsed_sections": []
    },
    "kernelspec": {
      "name": "python3",
      "display_name": "Python 3"
    },
    "language_info": {
      "name": "python"
    },
    "accelerator": "GPU"
  },
  "cells": [
    {
      "cell_type": "markdown",
      "source": [
        "# Import Libraries"
      ],
      "metadata": {
        "id": "oaPdXfSYVliM"
      }
    },
    {
      "cell_type": "code",
      "execution_count": null,
      "metadata": {
        "id": "l0UK0aDksNOv"
      },
      "outputs": [],
      "source": [
        "import numpy as np\n",
        "import pandas as pd\n",
        "import matplotlib.pyplot as plt\n",
        "import seaborn as sns\n",
        "from sklearn.model_selection import train_test_split, cross_val_score\n",
        "from sklearn.metrics import mean_squared_error, r2_score\n",
        "from sklearn.preprocessing import StandardScaler, OrdinalEncoder, OneHotEncoder, LabelEncoder\n",
        "from tensorflow.keras.layers import Input, Conv2D, MaxPooling2D, Flatten, Dense, Dropout, Activation, BatchNormalization\n",
        "from tensorflow.keras.optimizers import Adam\n",
        "from tensorflow import keras\n",
        "from tensorflow.keras.models import *\n",
        "import cv2\n",
        "import skimage.io\n",
        "import io\n",
        "import os\n",
        "from google.colab.patches import cv2_imshow"
      ]
    },
    {
      "cell_type": "markdown",
      "source": [
        "Read images from folder"
      ],
      "metadata": {
        "id": "HeztGGThVwcc"
      }
    },
    {
      "cell_type": "code",
      "source": [
        "img = cv2.imread('/content/drive/MyDrive/Colab Notebooks/C-NMC_Leukemia/training_data/fold_1/hem/UID_H10_100_1_hem.bmp')\n",
        "plt.imshow(img)"
      ],
      "metadata": {
        "id": "fWjJZKzveQS1",
        "colab": {
          "base_uri": "https://localhost:8080/",
          "height": 287
        },
        "outputId": "16795080-c6aa-4316-dba8-abb342d83c1f"
      },
      "execution_count": null,
      "outputs": [
        {
          "output_type": "execute_result",
          "data": {
            "text/plain": [
              "<matplotlib.image.AxesImage at 0x7fc1b183cd90>"
            ]
          },
          "metadata": {},
          "execution_count": 2
        },
        {
          "output_type": "display_data",
          "data": {
            "image/png": "[encoded data removed]",
            "text/plain": [
              "<Figure size 432x288 with 1 Axes>"
            ]
          },
          "metadata": {
            "needs_background": "light"
          }
        }
      ]
    },
    {
      "cell_type": "markdown",
      "source": [
        "Load all images"
      ],
      "metadata": {
        "id": "RPEU3emXV0u-"
      }
    },
    {
      "cell_type": "code",
      "source": [
        "all = []\n",
        "a = 0\n",
        "hem = []\n",
        "h = 0"
      ],
      "metadata": {
        "id": "B7KJ217T8qeA"
      },
      "execution_count": null,
      "outputs": []
    },
    {
      "cell_type": "code",
      "execution_count": null,
      "metadata": {
        "id": "VrCKC_VLdLg4"
      },
      "outputs": [],
      "source": [
        "for i in os.scandir('/content/drive/MyDrive/Colab Notebooks/C-NMC_Leukemia/training_data/fold_0'):\n",
        "    if i.path[75:78] == 'all':\n",
        "        for j in os.scandir(i):\n",
        "            if a<1100:\n",
        "                img = cv2.imread(j.path)\n",
        "                img = cv2.resize(img, (128,128))\n",
        "                all.append(img)   \n",
        "                a +=1 \n",
        "    if i.path[75:78] == 'hem':\n",
        "        for j in os.scandir(i):\n",
        "            if h<1100:\n",
        "                img = cv2.imread(j.path)\n",
        "                img = cv2.resize(img, (128,128))\n",
        "                hem.append(img) \n",
        "                h +=1\n",
        "    if a == 1100 and h == 1100:\n",
        "        break"
      ]
    },
    {
      "cell_type": "code",
      "source": [
        "all = np.array(all)\n",
        "hem = np.array(hem)\n",
        "print(all.shape, hem.shape)"
      ],
      "metadata": {
        "colab": {
          "base_uri": "https://localhost:8080/"
        },
        "id": "x1iMQY6xOJaB",
        "outputId": "56af5565-1fad-4956-8e67-8be6885bdf39"
      },
      "execution_count": null,
      "outputs": [
        {
          "output_type": "stream",
          "name": "stdout",
          "text": [
            "(1100, 128, 128, 3) (1100, 128, 128, 3)\n"
          ]
        }
      ]
    },
    {
      "cell_type": "code",
      "source": [
        "X = np.concatenate((all,hem), axis = 0)"
      ],
      "metadata": {
        "id": "WY7n5VUYSJJZ"
      },
      "execution_count": null,
      "outputs": []
    },
    {
      "cell_type": "markdown",
      "source": [
        "Create target variable array"
      ],
      "metadata": {
        "id": "-rPBFyMLWHeQ"
      }
    },
    {
      "cell_type": "code",
      "source": [
        "Y = np.zeros((2200, 1))\n",
        "for i in range(1100):\n",
        "    Y[i] = 1"
      ],
      "metadata": {
        "id": "dEysbudjN2pP"
      },
      "execution_count": null,
      "outputs": []
    },
    {
      "cell_type": "markdown",
      "source": [
        "Building Neural Network"
      ],
      "metadata": {
        "id": "ESe0rV89WK3E"
      }
    },
    {
      "cell_type": "code",
      "source": [
        "def LeukModel(input_size = (128, 128, 3)):\n",
        "    inpu = Input(shape = input_size)\n",
        "\n",
        "    conv0 = Conv2D(8, (3, 3), activation = 'relu') (inpu)\n",
        "    maxpool0 = MaxPooling2D((2,2)) (conv0)\n",
        "    drop0 = Dropout(0.4) (maxpool0)\n",
        "    \n",
        "    conv1 = Conv2D(16, (3, 3), activation = 'relu') (drop0)\n",
        "    maxpool1 = MaxPooling2D((2,2)) (conv1)\n",
        "    drop1 = Dropout(0.4) (maxpool1)\n",
        "    \n",
        "    conv2 = Conv2D(32, (3, 3), activation = 'relu') (drop1)\n",
        "    maxpool2 = MaxPooling2D((2, 2)) (conv2)\n",
        "    drop2 = Dropout(0.4) (maxpool2)\n",
        "    \n",
        "    conv3 = Conv2D(64, (3, 3), activation = 'relu') (drop2)\n",
        "    maxpool3 = MaxPooling2D((2, 2)) (conv3)\n",
        "    drop3 = Dropout(0.4) (maxpool3)\n",
        "    \n",
        "    flat = Flatten() (drop3)\n",
        "    \n",
        "    dense1 = Dense(256, activation = 'relu') (flat)\n",
        "    dense2 = Dense(128, activation = 'relu') (dense1)\n",
        "    dense3 = Dense(64, activation = 'relu') (dense2)\n",
        "    op = Dense(1, activation = 'sigmoid') (dense3)\n",
        "    \n",
        "    model = Model(inpu, op)\n",
        "    \n",
        "    return model"
      ],
      "metadata": {
        "id": "-x9Q-w78TqLS"
      },
      "execution_count": null,
      "outputs": []
    },
    {
      "cell_type": "code",
      "source": [
        "from sklearn.model_selection import train_test_split\n",
        "X_train, X_test, Y_train, Y_test = train_test_split(X, Y, random_state = 3, test_size = 0.3)\n",
        "print(X_train.shape, X_test.shape, Y_train.shape, Y_test.shape)"
      ],
      "metadata": {
        "colab": {
          "base_uri": "https://localhost:8080/"
        },
        "id": "YbwzLeQpT6tl",
        "outputId": "c818ddeb-a9ae-434a-b5ed-74c358843dec"
      },
      "execution_count": null,
      "outputs": [
        {
          "output_type": "stream",
          "name": "stdout",
          "text": [
            "(1540, 128, 128, 3) (660, 128, 128, 3) (1540, 1) (660, 1)\n"
          ]
        }
      ]
    },
    {
      "cell_type": "code",
      "source": [
        "model = LeukModel()\n",
        "print(model.summary())"
      ],
      "metadata": {
        "colab": {
          "base_uri": "https://localhost:8080/"
        },
        "id": "hTEKMwCFUMGM",
        "outputId": "46fe5cf6-b959-495a-b094-e046ed459a38"
      },
      "execution_count": null,
      "outputs": [
        {
          "output_type": "stream",
          "name": "stdout",
          "text": [
            "Model: \"model_2\"\n",
            "_________________________________________________________________\n",
            " Layer (type)                Output Shape              Param #   \n",
            "=================================================================\n",
            " input_3 (InputLayer)        [(None, 128, 128, 3)]     0         \n",
            "                                                                 \n",
            " conv2d_9 (Conv2D)           (None, 126, 126, 8)       224       \n",
            "                                                                 \n",
            " max_pooling2d_9 (MaxPooling  (None, 63, 63, 8)        0         \n",
            " 2D)                                                             \n",
            "                                                                 \n",
            " dropout_9 (Dropout)         (None, 63, 63, 8)         0         \n",
            "                                                                 \n",
            " conv2d_10 (Conv2D)          (None, 61, 61, 16)        1168      \n",
            "                                                                 \n",
            " max_pooling2d_10 (MaxPoolin  (None, 30, 30, 16)       0         \n",
            " g2D)                                                            \n",
            "                                                                 \n",
            " dropout_10 (Dropout)        (None, 30, 30, 16)        0         \n",
            "                                                                 \n",
            " conv2d_11 (Conv2D)          (None, 28, 28, 32)        4640      \n",
            "                                                                 \n",
            " max_pooling2d_11 (MaxPoolin  (None, 14, 14, 32)       0         \n",
            " g2D)                                                            \n",
            "                                                                 \n",
            " dropout_11 (Dropout)        (None, 14, 14, 32)        0         \n",
            "                                                                 \n",
            " conv2d_12 (Conv2D)          (None, 12, 12, 64)        18496     \n",
            "                                                                 \n",
            " max_pooling2d_12 (MaxPoolin  (None, 6, 6, 64)         0         \n",
            " g2D)                                                            \n",
            "                                                                 \n",
            " dropout_12 (Dropout)        (None, 6, 6, 64)          0         \n",
            "                                                                 \n",
            " flatten_2 (Flatten)         (None, 2304)              0         \n",
            "                                                                 \n",
            " dense_8 (Dense)             (None, 256)               590080    \n",
            "                                                                 \n",
            " dense_9 (Dense)             (None, 128)               32896     \n",
            "                                                                 \n",
            " dense_10 (Dense)            (None, 64)                8256      \n",
            "                                                                 \n",
            " dense_11 (Dense)            (None, 1)                 65        \n",
            "                                                                 \n",
            "=================================================================\n",
            "Total params: 655,825\n",
            "Trainable params: 655,825\n",
            "Non-trainable params: 0\n",
            "_________________________________________________________________\n",
            "None\n"
          ]
        }
      ]
    },
    {
      "cell_type": "markdown",
      "source": [
        "Training"
      ],
      "metadata": {
        "id": "hraCu_EvWPnM"
      }
    },
    {
      "cell_type": "code",
      "source": [
        "model.compile(loss = 'binary_crossentropy', optimizer = keras.optimizers.Adam(0.00075), metrics = ['accuracy'])\n",
        "history = model.fit(X_train, Y_train, validation_data = (X_test, Y_test), epochs = 40, batch_size = 32, shuffle = True)"
      ],
      "metadata": {
        "colab": {
          "base_uri": "https://localhost:8080/"
        },
        "id": "7oYoVO5HUYYN",
        "outputId": "e956ddb5-b69f-4359-aeb3-95414ce1ec22"
      },
      "execution_count": null,
      "outputs": [
        {
          "output_type": "stream",
          "name": "stdout",
          "text": [
            "Epoch 1/40\n",
            "49/49 [==============================] - 1s 16ms/step - loss: 0.0728 - accuracy: 0.9734 - val_loss: 0.4338 - val_accuracy: 0.8939\n",
            "Epoch 2/40\n",
            "49/49 [==============================] - 0s 9ms/step - loss: 0.0617 - accuracy: 0.9792 - val_loss: 0.4641 - val_accuracy: 0.8818\n",
            "Epoch 3/40\n",
            "49/49 [==============================] - 0s 10ms/step - loss: 0.0738 - accuracy: 0.9747 - val_loss: 0.4488 - val_accuracy: 0.8773\n",
            "Epoch 4/40\n",
            "49/49 [==============================] - 1s 11ms/step - loss: 0.0754 - accuracy: 0.9708 - val_loss: 0.3910 - val_accuracy: 0.8758\n",
            "Epoch 5/40\n",
            "49/49 [==============================] - 0s 10ms/step - loss: 0.0762 - accuracy: 0.9675 - val_loss: 0.4201 - val_accuracy: 0.8909\n",
            "Epoch 6/40\n",
            "49/49 [==============================] - 1s 11ms/step - loss: 0.0906 - accuracy: 0.9656 - val_loss: 0.5460 - val_accuracy: 0.8530\n",
            "Epoch 7/40\n",
            "49/49 [==============================] - 0s 9ms/step - loss: 0.1026 - accuracy: 0.9688 - val_loss: 0.3515 - val_accuracy: 0.9000\n",
            "Epoch 8/40\n",
            "49/49 [==============================] - 0s 10ms/step - loss: 0.0705 - accuracy: 0.9760 - val_loss: 0.3904 - val_accuracy: 0.8864\n",
            "Epoch 9/40\n",
            "49/49 [==============================] - 0s 10ms/step - loss: 0.0912 - accuracy: 0.9708 - val_loss: 0.3847 - val_accuracy: 0.8924\n",
            "Epoch 10/40\n",
            "49/49 [==============================] - 0s 9ms/step - loss: 0.0630 - accuracy: 0.9760 - val_loss: 0.4733 - val_accuracy: 0.8621\n",
            "Epoch 11/40\n",
            "49/49 [==============================] - 0s 10ms/step - loss: 0.0821 - accuracy: 0.9773 - val_loss: 0.3824 - val_accuracy: 0.8727\n",
            "Epoch 12/40\n",
            "49/49 [==============================] - 0s 9ms/step - loss: 0.0532 - accuracy: 0.9818 - val_loss: 0.3453 - val_accuracy: 0.8970\n",
            "Epoch 13/40\n",
            "49/49 [==============================] - 0s 10ms/step - loss: 0.0574 - accuracy: 0.9792 - val_loss: 0.4290 - val_accuracy: 0.8667\n",
            "Epoch 14/40\n",
            "49/49 [==============================] - 0s 10ms/step - loss: 0.1072 - accuracy: 0.9740 - val_loss: 0.3745 - val_accuracy: 0.8833\n",
            "Epoch 15/40\n",
            "49/49 [==============================] - 0s 10ms/step - loss: 0.0856 - accuracy: 0.9708 - val_loss: 0.3722 - val_accuracy: 0.8576\n",
            "Epoch 16/40\n",
            "49/49 [==============================] - 0s 9ms/step - loss: 0.0553 - accuracy: 0.9779 - val_loss: 0.3685 - val_accuracy: 0.8803\n",
            "Epoch 17/40\n",
            "49/49 [==============================] - 1s 11ms/step - loss: 0.0563 - accuracy: 0.9779 - val_loss: 0.3823 - val_accuracy: 0.8636\n",
            "Epoch 18/40\n",
            "49/49 [==============================] - 0s 9ms/step - loss: 0.0596 - accuracy: 0.9747 - val_loss: 0.3370 - val_accuracy: 0.8955\n",
            "Epoch 19/40\n",
            "49/49 [==============================] - 0s 10ms/step - loss: 0.0916 - accuracy: 0.9688 - val_loss: 0.3787 - val_accuracy: 0.8712\n",
            "Epoch 20/40\n",
            "49/49 [==============================] - 1s 11ms/step - loss: 0.0617 - accuracy: 0.9734 - val_loss: 0.3700 - val_accuracy: 0.8788\n",
            "Epoch 21/40\n",
            "49/49 [==============================] - 0s 10ms/step - loss: 0.0535 - accuracy: 0.9773 - val_loss: 0.3642 - val_accuracy: 0.8985\n",
            "Epoch 22/40\n",
            "49/49 [==============================] - 1s 11ms/step - loss: 0.0614 - accuracy: 0.9766 - val_loss: 0.4921 - val_accuracy: 0.8485\n",
            "Epoch 23/40\n",
            "49/49 [==============================] - 0s 10ms/step - loss: 0.0849 - accuracy: 0.9708 - val_loss: 0.3951 - val_accuracy: 0.8758\n",
            "Epoch 24/40\n",
            "49/49 [==============================] - 0s 9ms/step - loss: 0.0610 - accuracy: 0.9773 - val_loss: 0.3900 - val_accuracy: 0.8818\n",
            "Epoch 25/40\n",
            "49/49 [==============================] - 0s 9ms/step - loss: 0.0704 - accuracy: 0.9714 - val_loss: 0.3639 - val_accuracy: 0.8773\n",
            "Epoch 26/40\n",
            "49/49 [==============================] - 0s 9ms/step - loss: 0.0568 - accuracy: 0.9805 - val_loss: 0.3529 - val_accuracy: 0.9000\n",
            "Epoch 27/40\n",
            "49/49 [==============================] - 0s 9ms/step - loss: 0.1086 - accuracy: 0.9591 - val_loss: 0.3157 - val_accuracy: 0.8848\n",
            "Epoch 28/40\n",
            "49/49 [==============================] - 0s 10ms/step - loss: 0.0573 - accuracy: 0.9760 - val_loss: 0.3468 - val_accuracy: 0.8848\n",
            "Epoch 29/40\n",
            "49/49 [==============================] - 0s 10ms/step - loss: 0.0533 - accuracy: 0.9825 - val_loss: 0.4252 - val_accuracy: 0.8652\n",
            "Epoch 30/40\n",
            "49/49 [==============================] - 0s 9ms/step - loss: 0.0605 - accuracy: 0.9760 - val_loss: 0.3870 - val_accuracy: 0.8833\n",
            "Epoch 31/40\n",
            "49/49 [==============================] - 1s 11ms/step - loss: 0.0559 - accuracy: 0.9799 - val_loss: 0.4574 - val_accuracy: 0.8727\n",
            "Epoch 32/40\n",
            "49/49 [==============================] - 0s 10ms/step - loss: 0.0439 - accuracy: 0.9825 - val_loss: 0.3709 - val_accuracy: 0.9015\n",
            "Epoch 33/40\n",
            "49/49 [==============================] - 0s 10ms/step - loss: 0.0462 - accuracy: 0.9831 - val_loss: 0.4376 - val_accuracy: 0.8742\n",
            "Epoch 34/40\n",
            "49/49 [==============================] - 0s 10ms/step - loss: 0.0703 - accuracy: 0.9740 - val_loss: 0.4288 - val_accuracy: 0.8652\n",
            "Epoch 35/40\n",
            "49/49 [==============================] - 1s 11ms/step - loss: 0.0556 - accuracy: 0.9792 - val_loss: 0.3683 - val_accuracy: 0.8909\n",
            "Epoch 36/40\n",
            "49/49 [==============================] - 0s 9ms/step - loss: 0.0502 - accuracy: 0.9825 - val_loss: 0.3838 - val_accuracy: 0.8924\n",
            "Epoch 37/40\n",
            "49/49 [==============================] - 1s 11ms/step - loss: 0.0839 - accuracy: 0.9656 - val_loss: 0.3741 - val_accuracy: 0.8833\n",
            "Epoch 38/40\n",
            "49/49 [==============================] - 0s 10ms/step - loss: 0.0507 - accuracy: 0.9799 - val_loss: 0.4224 - val_accuracy: 0.8788\n",
            "Epoch 39/40\n",
            "49/49 [==============================] - 1s 11ms/step - loss: 0.1051 - accuracy: 0.9636 - val_loss: 0.3627 - val_accuracy: 0.8909\n",
            "Epoch 40/40\n",
            "49/49 [==============================] - 0s 10ms/step - loss: 0.0516 - accuracy: 0.9773 - val_loss: 0.4306 - val_accuracy: 0.8818\n"
          ]
        }
      ]
    },
    {
      "cell_type": "markdown",
      "source": [
        "Evaluation"
      ],
      "metadata": {
        "id": "jFkNQBKtWRj1"
      }
    },
    {
      "cell_type": "code",
      "source": [
        "train_perf = model.evaluate(X_train, Y_train)\n",
        "test_perf = model.evaluate(X_test, Y_test)"
      ],
      "metadata": {
        "colab": {
          "base_uri": "https://localhost:8080/"
        },
        "id": "XwwWOgbBVovr",
        "outputId": "180e5cf4-4660-4ff7-955f-61a68b0a3881"
      },
      "execution_count": null,
      "outputs": [
        {
          "output_type": "stream",
          "name": "stdout",
          "text": [
            "49/49 [==============================] - 0s 4ms/step - loss: 0.0272 - accuracy: 0.9994\n",
            "21/21 [==============================] - 0s 4ms/step - loss: 0.4306 - accuracy: 0.8818\n"
          ]
        }
      ]
    },
    {
      "cell_type": "code",
      "source": [
        "# ALL - 0, HEM - 1"
      ],
      "metadata": {
        "id": "gHhZZ9txjhFB"
      },
      "execution_count": null,
      "outputs": []
    },
    {
      "cell_type": "markdown",
      "source": [
        "Testing using unseen data"
      ],
      "metadata": {
        "id": "Vcur6C98WTOr"
      }
    },
    {
      "cell_type": "code",
      "source": [
        "testimg = cv2.imread('/content/drive/MyDrive/Colab Notebooks/C-NMC_Leukemia/training_data/fold_1/all/UID_16_40_1_all.bmp')\n",
        "testimg = cv2.resize(testimg, (128, 128))\n",
        "plt.imshow(testimg[:,:,::-1])\n",
        "testimg = np.expand_dims(testimg, axis = 0)\n",
        "print(np.round(model.predict(testimg)))"
      ],
      "metadata": {
        "colab": {
          "base_uri": "https://localhost:8080/",
          "height": 285
        },
        "id": "UhJuYGyXdafp",
        "outputId": "3befebe4-56cd-423b-9232-097565bd3ba8"
      },
      "execution_count": null,
      "outputs": [
        {
          "output_type": "stream",
          "name": "stdout",
          "text": [
            "[[0.]]\n"
          ]
        },
        {
          "output_type": "display_data",
          "data": {
            "image/png": "[encoded data removed]",
            "text/plain": [
              "<Figure size 432x288 with 1 Axes>"
            ]
          },
          "metadata": {
            "needs_background": "light"
          }
        }
      ]
    },
    {
      "cell_type": "code",
      "source": [
        "testimg = cv2.imread('/content/drive/MyDrive/Colab Notebooks/C-NMC_Leukemia/training_data/fold_1/hem/UID_H10_10_1_hem.bmp')\n",
        "testimg = cv2.resize(testimg, (128, 128))\n",
        "plt.imshow(testimg[:,:,::-1])\n",
        "testimg = np.expand_dims(testimg, axis = 0)\n",
        "print(np.round(model.predict(testimg)))"
      ],
      "metadata": {
        "colab": {
          "base_uri": "https://localhost:8080/",
          "height": 285
        },
        "id": "gHEIWZQERPR_",
        "outputId": "1247100d-f672-48d8-a109-4eb6ed22a534"
      },
      "execution_count": null,
      "outputs": [
        {
          "output_type": "stream",
          "name": "stdout",
          "text": [
            "[[1.]]\n"
          ]
        },
        {
          "output_type": "display_data",
          "data": {
            "image/png": "[encoded data removed]",
            "text/plain": [
              "<Figure size 432x288 with 1 Axes>"
            ]
          },
          "metadata": {
            "needs_background": "light"
          }
        }
      ]
    },
    {
      "cell_type": "code",
      "source": [
        "testimg = cv2.imread('/content/drive/MyDrive/Colab Notebooks/check.jpg')\n",
        "testimg = cv2.resize(testimg, (128, 128))\n",
        "plt.imshow(testimg[:,:,::-1])\n",
        "testimg = np.expand_dims(testimg, axis = 0)\n",
        "print(np.round(model.predict(testimg)))"
      ],
      "metadata": {
        "id": "ZbV0HPcPyj5F",
        "colab": {
          "base_uri": "https://localhost:8080/",
          "height": 285
        },
        "outputId": "823de455-9763-49f5-be6a-39fa55f547b1"
      },
      "execution_count": null,
      "outputs": [
        {
          "output_type": "stream",
          "name": "stdout",
          "text": [
            "[[0.]]\n"
          ]
        },
        {
          "output_type": "display_data",
          "data": {
            "image/png": "[encoded data removed]",
            "text/plain": [
              "<Figure size 432x288 with 1 Axes>"
            ]
          },
          "metadata": {
            "needs_background": "light"
          }
        }
      ]
    },
    {
      "cell_type": "markdown",
      "source": [
        "Load model"
      ],
      "metadata": {
        "id": "f7M-xWK3WYe5"
      }
    },
    {
      "cell_type": "code",
      "source": [
        "model.save('cancer.h5')\n",
        "model.save_weights('cancerweights.h5')"
      ],
      "metadata": {
        "id": "p_C-q9Qyx4Sf"
      },
      "execution_count": null,
      "outputs": []
    },
    {
      "cell_type": "code",
      "source": [
        "load_model('cancer.h5')"
      ],
      "metadata": {
        "colab": {
          "base_uri": "https://localhost:8080/"
        },
        "id": "RdehDOs0x9Yt",
        "outputId": "17b7d29c-ceb8-4d31-ac5d-b3f704d09b87"
      },
      "execution_count": null,
      "outputs": [
        {
          "output_type": "execute_result",
          "data": {
            "text/plain": [
              "<keras.engine.functional.Functional at 0x7f982c6128d0>"
            ]
          },
          "metadata": {},
          "execution_count": 86
        }
      ]
    }
  ]
}