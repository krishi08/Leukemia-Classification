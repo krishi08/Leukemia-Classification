{
  "cells": [
    {
      "cell_type": "code",
      "execution_count": null,
      "metadata": {
        "colab": {
          "base_uri": "https://localhost:8080/"
        },
        "id": "Hkz3IFlBVicj",
        "outputId": "49b92717-8612-456c-a357-4e6eb6a04876"
      },
      "outputs": [
        {
          "output_type": "stream",
          "name": "stdout",
          "text": [
            "Mounted at /content/drive\n"
          ]
        }
      ],
      "source": [
        "from google.colab import drive\n",
        "drive.mount('/content/drive')"
      ]
    },
    {
      "cell_type": "code",
      "execution_count": null,
      "metadata": {
        "id": "gFzan81VgG2g"
      },
      "outputs": [],
      "source": [
        "import numpy as np \n",
        "import pandas as pd \n",
        "import cv2 \n",
        "%matplotlib inline \n",
        "import matplotlib.pyplot as plt \n",
        "import seaborn as sn \n",
        "import pandas as pd \n",
        "import pickle  \n",
        "import csv \n",
        "\n",
        "from sklearn.metrics import confusion_matrix, classification_report \n",
        "import tensorflow as tf \n",
        "from PIL import Image \n",
        "from tensorflow.keras import layers "
      ]
    },
    {
      "cell_type": "code",
      "execution_count": null,
      "metadata": {
        "id": "DvmegonV3kHm"
      },
      "outputs": [],
      "source": [
        "path_base = '/content/drive/MyDrive/Colab Notebooks/ALL/Segmented/'"
      ]
    },
    {
      "cell_type": "code",
      "execution_count": null,
      "metadata": {
        "id": "qHIuJhsq4XcK"
      },
      "outputs": [],
      "source": [
        "class_names = ['Benign', 'Early', 'Pre', 'Pro'] #available classes\n",
        "num_classes=4"
      ]
    },
    {
      "cell_type": "code",
      "execution_count": null,
      "metadata": {
        "id": "xhPkF2Tq4gGB"
      },
      "outputs": [],
      "source": [
        "from keras.preprocessing.image import ImageDataGenerator\n",
        "from keras.applications import densenet\n",
        "from keras.models import Sequential, Model, load_model\n",
        "from keras.layers import Conv2D, MaxPooling2D\n",
        "from keras.layers import Activation, Dropout, Flatten, Dense\n",
        "from keras.callbacks import EarlyStopping, ReduceLROnPlateau, ModelCheckpoint, Callback\n",
        "from keras import regularizers\n",
        "from keras import backend as K\n",
        "import os"
      ]
    },
    {
      "cell_type": "code",
      "execution_count": null,
      "metadata": {
        "id": "ha094ocdA5_V"
      },
      "outputs": [],
      "source": [
        "%%capture\n",
        "import keras\n",
        "import keras.backend as K\n",
        "from keras.models import Model\n",
        "from keras.layers import Input, Dense, Conv2D, Conv3D, DepthwiseConv2D, SeparableConv2D, Conv3DTranspose\n",
        "from keras.layers import Flatten, MaxPool2D, AvgPool2D, GlobalAvgPool2D, UpSampling2D, BatchNormalization\n",
        "from keras.layers import Concatenate, Add, Dropout, ReLU, Lambda, Activation, LeakyReLU, PReLU\n",
        "\n",
        "from IPython.display import SVG\n",
        "from keras.utils.vis_utils import model_to_dot\n",
        "\n",
        "from time import time\n",
        "import numpy as np"
      ]
    },
    {
      "cell_type": "code",
      "execution_count": null,
      "metadata": {
        "colab": {
          "base_uri": "https://localhost:8080/"
        },
        "id": "LN3oEcId4n0X",
        "outputId": "42aa7cd4-b143-4d57-c349-d466fa12aa92"
      },
      "outputs": [
        {
          "output_type": "stream",
          "name": "stderr",
          "text": [
            "/usr/local/lib/python3.7/dist-packages/keras/backend.py:450: UserWarning: `tf.keras.backend.set_learning_phase` is deprecated and will be removed after 2020-10-11. To update it, simply pass a True/False value to the `training` argument of the `__call__` method of your layer or model.\n",
            "  warnings.warn('`tf.keras.backend.set_learning_phase` is deprecated and '\n"
          ]
        }
      ],
      "source": [
        "K.set_learning_phase(1)"
      ]
    },
    {
      "cell_type": "code",
      "execution_count": null,
      "metadata": {
        "id": "ZtTsq6tl5d5m"
      },
      "outputs": [],
      "source": [
        "img_width, img_height = 224, 224\n",
        "img_shape = (224,224)\n",
        "epochs = 10\n",
        "batch_size = 32\n",
        "n_classes = 4"
      ]
    },
    {
      "cell_type": "code",
      "execution_count": null,
      "metadata": {
        "id": "tUQATYMxA7uq"
      },
      "outputs": [],
      "source": [
        "benign = []\n",
        "early = [] \n",
        "pre = []\n",
        "pro = []\n",
        "b,e,pe,po = 0,0,0,0"
      ]
    },
    {
      "cell_type": "code",
      "execution_count": null,
      "metadata": {
        "id": "id15StzmWhDs"
      },
      "outputs": [],
      "source": [
        "for i in os.scandir('/content/drive/MyDrive/Colab Notebooks/ALL/Segmented/Benign'):\n",
        "    img = cv2.imread(i.path)\n",
        "    img = cv2.resize(img, (128,128))\n",
        "    benign.append(img)\n",
        "    b +=1\n",
        "    if b == 500:\n",
        "        break"
      ]
    },
    {
      "cell_type": "code",
      "execution_count": null,
      "metadata": {
        "id": "tL-4xnTHXQrd"
      },
      "outputs": [],
      "source": [
        "for i in os.scandir('/content/drive/MyDrive/Colab Notebooks/ALL/Segmented/Early'):\n",
        "    img = cv2.imread(i.path)\n",
        "    img = cv2.resize(img, (128,128))\n",
        "    early.append(img)\n",
        "    e +=1\n",
        "    if e == 500:\n",
        "        break"
      ]
    },
    {
      "cell_type": "code",
      "execution_count": null,
      "metadata": {
        "id": "dfhvTZI9Xjc-"
      },
      "outputs": [],
      "source": [
        "for i in os.scandir('/content/drive/MyDrive/Colab Notebooks/ALL/Segmented/Pre'):\n",
        "    img = cv2.imread(i.path)\n",
        "    img = cv2.resize(img, (128,128))\n",
        "    pre.append(img)   \n",
        "    pe +=1 \n",
        "    if pe == 500:\n",
        "        break"
      ]
    },
    {
      "cell_type": "code",
      "execution_count": null,
      "metadata": {
        "id": "SG2q1PjlX1mI"
      },
      "outputs": [],
      "source": [
        "for i in os.scandir('/content/drive/MyDrive/Colab Notebooks/ALL/Segmented/Pro'):\n",
        "    img = cv2.imread(i.path)\n",
        "    img = cv2.resize(img, (128,128))\n",
        "    pro.append(img)   \n",
        "    po +=1 \n",
        "    if po == 500:\n",
        "        break"
      ]
    },
    {
      "cell_type": "code",
      "execution_count": null,
      "metadata": {
        "id": "dioc2NhkX5fj"
      },
      "outputs": [],
      "source": [
        "benign = np.array(benign)\n",
        "early = np.array(early)\n",
        "pre = np.array(pre)\n",
        "pro = np.array(pro)"
      ]
    },
    {
      "cell_type": "code",
      "execution_count": null,
      "metadata": {
        "colab": {
          "base_uri": "https://localhost:8080/"
        },
        "id": "JRf0AwRiYWv9",
        "outputId": "5438f07c-e095-494c-ae96-fd55df465893"
      },
      "outputs": [
        {
          "output_type": "stream",
          "name": "stdout",
          "text": [
            "(500, 128, 128, 3) (500, 128, 128, 3) (500, 128, 128, 3) (500, 128, 128, 3)\n"
          ]
        }
      ],
      "source": [
        "print(benign.shape, early.shape, pre.shape, pro.shape)"
      ]
    },
    {
      "cell_type": "code",
      "execution_count": null,
      "metadata": {
        "id": "vQLvv3hHYebE"
      },
      "outputs": [],
      "source": [
        "X = np.concatenate((benign, early, pre, pro), axis = 0)"
      ]
    },
    {
      "cell_type": "code",
      "execution_count": null,
      "metadata": {
        "id": "dnRBhXWbY8oV"
      },
      "outputs": [],
      "source": [
        "Y = np.zeros((2000, 1))\n",
        "for i in range(2000):\n",
        "    if i<500:\n",
        "        Y[i] = 0\n",
        "    elif i<1000:\n",
        "        Y[i] = 1\n",
        "    elif i<1500:\n",
        "        Y[i] = 2\n",
        "    else:\n",
        "        Y[i] = 3"
      ]
    },
    {
      "cell_type": "code",
      "execution_count": null,
      "metadata": {
        "id": "kS0OG5zbdQOE"
      },
      "outputs": [],
      "source": [
        "from tensorflow.keras.utils import to_categorical\n",
        "Y = to_categorical(Y)"
      ]
    },
    {
      "cell_type": "code",
      "execution_count": null,
      "metadata": {
        "id": "XhwxbGWtawF0"
      },
      "outputs": [],
      "source": [
        "from sklearn.model_selection import train_test_split\n",
        "X_train, X_test, Y_train, Y_test = train_test_split(X, Y, random_state = 3, test_size = 0.3)"
      ]
    },
    {
      "cell_type": "code",
      "execution_count": null,
      "metadata": {
        "colab": {
          "base_uri": "https://localhost:8080/"
        },
        "id": "w_a5m7QuM4zI",
        "outputId": "492ed476-e4a8-4578-ecf2-534e72a7e9b3"
      },
      "outputs": [
        {
          "output_type": "stream",
          "name": "stdout",
          "text": [
            "(1050, 128, 128, 3) (600, 128, 128, 3) (350, 4) (1050, 4) (600, 4) (350, 4)\n"
          ]
        }
      ],
      "source": [
        "X_train, X_val, Y_train, Y_val = train_test_split(X_train, Y_train, test_size=0.25, random_state=1) \n",
        "print(X_train.shape, X_test.shape, Y_val.shape, Y_train.shape, Y_test.shape, Y_val.shape)"
      ]
    },
    {
      "cell_type": "code",
      "execution_count": null,
      "metadata": {
        "id": "A-HXx_o65lhT"
      },
      "outputs": [],
      "source": [
        "def densenet(img_shape = (128,128,3), n_classes=4, f=32):\n",
        "  repetitions = 6,6\n",
        "  \n",
        "  def bn_rl_conv(x, f, k=1, s=1, p='same'):\n",
        "    x = BatchNormalization()(x)\n",
        "    x = ReLU()(x)\n",
        "    x = Conv2D(f, k, strides=s, padding=p)(x)\n",
        "    return x\n",
        "  \n",
        "  def dense_block(tensor, r):\n",
        "    for _ in range(r):\n",
        "      x = bn_rl_conv(tensor, 4*f)\n",
        "      x = bn_rl_conv(x, f, 3)\n",
        "      tensor = Concatenate()([tensor, x])\n",
        "    return tensor\n",
        "  \n",
        "  def transition_block(x):\n",
        "    x = bn_rl_conv(x, K.int_shape(x)[-1] // 2)\n",
        "    x = AvgPool2D(2, strides=2, padding='same')(x)\n",
        "    return x\n",
        "  \n",
        "  input = Input(img_shape)\n",
        "  \n",
        "  x = Conv2D(64, 7, strides=2, padding='same')(input)\n",
        "  x = MaxPool2D(3, strides=2, padding='same')(x)\n",
        "  \n",
        "  for r in repetitions:\n",
        "    d = dense_block(x, r)\n",
        "    x = transition_block(d)\n",
        "  \n",
        "  x = GlobalAvgPool2D()(d)\n",
        "  \n",
        "  output = Dense(n_classes, activation='softmax')(x)\n",
        "  \n",
        "  model = Model(input, output)\n",
        "  return model"
      ]
    },
    {
      "cell_type": "code",
      "execution_count": null,
      "metadata": {
        "id": "GABJz3qTedGt"
      },
      "outputs": [],
      "source": [
        "model = densenet()\n",
        "#model.summary()"
      ]
    },
    {
      "cell_type": "code",
      "execution_count": null,
      "metadata": {
        "id": "cmbpfdYqfbHF"
      },
      "outputs": [],
      "source": [
        "import numpy as np\n",
        "import pandas as pd\n",
        "import matplotlib.pyplot as plt\n",
        "import seaborn as sns\n",
        "from sklearn.model_selection import train_test_split, cross_val_score\n",
        "from sklearn.metrics import mean_squared_error, r2_score\n",
        "from sklearn.preprocessing import StandardScaler, OrdinalEncoder, OneHotEncoder, LabelEncoder\n",
        "from tensorflow.keras.layers import Input, Conv2D, MaxPooling2D, Flatten, Dense, Dropout, Activation, BatchNormalization\n",
        "from tensorflow.keras.optimizers import Adam, Adamax\n",
        "from tensorflow import keras\n",
        "from tensorflow.keras.models import *\n",
        "import cv2\n",
        "import skimage.io\n",
        "import io\n",
        "import os\n",
        "from google.colab.patches import cv2_imshow"
      ]
    },
    {
      "cell_type": "code",
      "execution_count": null,
      "metadata": {
        "id": "Nf8seR5bdyh2",
        "colab": {
          "base_uri": "https://localhost:8080/"
        },
        "outputId": "0223bb5b-ab11-4b7c-cd51-a7f5ce2b56d5"
      },
      "outputs": [
        {
          "output_type": "stream",
          "name": "stdout",
          "text": [
            "Epoch 1/30\n",
            "17/17 [==============================] - 10s 362ms/step - loss: 1.0168 - accuracy: 0.5886 - val_loss: 2.4044 - val_accuracy: 0.2829\n",
            "Epoch 2/30\n",
            "17/17 [==============================] - 5s 278ms/step - loss: 0.7409 - accuracy: 0.7810 - val_loss: 2.0298 - val_accuracy: 0.3657\n",
            "Epoch 3/30\n",
            "17/17 [==============================] - 5s 278ms/step - loss: 0.6340 - accuracy: 0.7981 - val_loss: 1.6568 - val_accuracy: 0.4486\n",
            "Epoch 4/30\n",
            "17/17 [==============================] - 5s 274ms/step - loss: 0.5466 - accuracy: 0.8410 - val_loss: 1.4174 - val_accuracy: 0.4457\n",
            "Epoch 5/30\n",
            "17/17 [==============================] - 5s 274ms/step - loss: 0.4904 - accuracy: 0.8524 - val_loss: 1.1698 - val_accuracy: 0.4714\n",
            "Epoch 6/30\n",
            "17/17 [==============================] - 5s 275ms/step - loss: 0.4354 - accuracy: 0.8762 - val_loss: 1.1084 - val_accuracy: 0.5229\n",
            "Epoch 7/30\n",
            "17/17 [==============================] - 5s 294ms/step - loss: 0.3886 - accuracy: 0.9038 - val_loss: 0.9138 - val_accuracy: 0.6457\n",
            "Epoch 8/30\n",
            "17/17 [==============================] - 5s 287ms/step - loss: 0.3530 - accuracy: 0.9086 - val_loss: 0.8862 - val_accuracy: 0.7000\n",
            "Epoch 9/30\n",
            "17/17 [==============================] - 5s 273ms/step - loss: 0.3420 - accuracy: 0.9105 - val_loss: 0.8072 - val_accuracy: 0.7543\n",
            "Epoch 10/30\n",
            "17/17 [==============================] - 5s 275ms/step - loss: 0.3182 - accuracy: 0.9181 - val_loss: 0.8219 - val_accuracy: 0.7829\n",
            "Epoch 11/30\n",
            "17/17 [==============================] - 5s 286ms/step - loss: 0.3014 - accuracy: 0.9190 - val_loss: 0.7705 - val_accuracy: 0.8286\n",
            "Epoch 12/30\n",
            "17/17 [==============================] - 5s 274ms/step - loss: 0.2729 - accuracy: 0.9286 - val_loss: 0.8027 - val_accuracy: 0.8314\n",
            "Epoch 13/30\n",
            "17/17 [==============================] - 5s 303ms/step - loss: 0.2540 - accuracy: 0.9381 - val_loss: 0.7887 - val_accuracy: 0.8457\n",
            "Epoch 14/30\n",
            "17/17 [==============================] - 5s 275ms/step - loss: 0.2485 - accuracy: 0.9343 - val_loss: 0.7798 - val_accuracy: 0.8429\n",
            "Epoch 15/30\n",
            "17/17 [==============================] - 5s 281ms/step - loss: 0.2444 - accuracy: 0.9410 - val_loss: 0.7532 - val_accuracy: 0.8571\n",
            "Epoch 16/30\n",
            "17/17 [==============================] - 5s 276ms/step - loss: 0.2362 - accuracy: 0.9390 - val_loss: 0.7706 - val_accuracy: 0.8457\n",
            "Epoch 17/30\n",
            "17/17 [==============================] - 5s 275ms/step - loss: 0.2148 - accuracy: 0.9476 - val_loss: 0.7477 - val_accuracy: 0.8714\n",
            "Epoch 18/30\n",
            "17/17 [==============================] - 5s 277ms/step - loss: 0.2104 - accuracy: 0.9476 - val_loss: 0.7359 - val_accuracy: 0.8514\n",
            "Epoch 19/30\n",
            "17/17 [==============================] - 5s 300ms/step - loss: 0.2161 - accuracy: 0.9390 - val_loss: 0.5900 - val_accuracy: 0.8600\n",
            "Epoch 20/30\n",
            "17/17 [==============================] - 5s 278ms/step - loss: 0.1955 - accuracy: 0.9610 - val_loss: 0.5646 - val_accuracy: 0.8686\n",
            "Epoch 21/30\n",
            "17/17 [==============================] - 5s 280ms/step - loss: 0.1922 - accuracy: 0.9533 - val_loss: 0.5864 - val_accuracy: 0.8714\n",
            "Epoch 22/30\n",
            "17/17 [==============================] - 5s 276ms/step - loss: 0.1883 - accuracy: 0.9552 - val_loss: 0.5373 - val_accuracy: 0.8714\n",
            "Epoch 23/30\n",
            "17/17 [==============================] - 5s 275ms/step - loss: 0.1813 - accuracy: 0.9505 - val_loss: 0.5926 - val_accuracy: 0.8600\n",
            "Epoch 24/30\n",
            "17/17 [==============================] - 5s 274ms/step - loss: 0.1634 - accuracy: 0.9657 - val_loss: 0.6324 - val_accuracy: 0.8629\n",
            "Epoch 25/30\n",
            "17/17 [==============================] - 5s 294ms/step - loss: 0.1640 - accuracy: 0.9581 - val_loss: 0.5142 - val_accuracy: 0.8457\n",
            "Epoch 26/30\n",
            "17/17 [==============================] - 5s 285ms/step - loss: 0.1589 - accuracy: 0.9657 - val_loss: 0.5769 - val_accuracy: 0.8429\n",
            "Epoch 27/30\n",
            "17/17 [==============================] - 5s 276ms/step - loss: 0.1494 - accuracy: 0.9695 - val_loss: 0.7106 - val_accuracy: 0.8171\n",
            "Epoch 28/30\n",
            "17/17 [==============================] - 5s 276ms/step - loss: 0.1588 - accuracy: 0.9667 - val_loss: 0.4431 - val_accuracy: 0.8571\n",
            "Epoch 29/30\n",
            "17/17 [==============================] - 5s 276ms/step - loss: 0.1431 - accuracy: 0.9686 - val_loss: 0.5584 - val_accuracy: 0.7943\n",
            "Epoch 30/30\n",
            "17/17 [==============================] - 5s 275ms/step - loss: 0.1434 - accuracy: 0.9657 - val_loss: 0.5134 - val_accuracy: 0.8171\n"
          ]
        }
      ],
      "source": [
        "model.compile(loss = 'categorical_crossentropy', optimizer = keras.optimizers.Adamax(0.0001), metrics = ['accuracy'])\n",
        "history = model.fit(X_train, Y_train, validation_data = (X_val, Y_val), epochs = 30, batch_size = 64, shuffle = True)"
      ]
    },
    {
      "cell_type": "code",
      "source": [
        "old_model = load_model ('/content/drive/MyDrive/Colab Notebooks/dense_model.h5')"
      ],
      "metadata": {
        "id": "8OniChj-slSw"
      },
      "execution_count": null,
      "outputs": []
    },
    {
      "cell_type": "code",
      "source": [
        "tf.keras.utils.plot_model(old_model, show_shapes=True)"
      ],
      "metadata": {
        "id": "i17MJxVOdz17"
      },
      "execution_count": null,
      "outputs": []
    },
    {
      "cell_type": "code",
      "source": [
        "old_model.summary()"
      ],
      "metadata": {
        "id": "ZV-MIK0udpgP"
      },
      "execution_count": null,
      "outputs": []
    },
    {
      "cell_type": "code",
      "source": [
        "train_perf = old_model.evaluate(X_train, Y_train)\n",
        "test_perf = old_model.evaluate(X_test, Y_test)\n",
        "val_perf = old_model.evaluate(X_val, Y_val)"
      ],
      "metadata": {
        "colab": {
          "base_uri": "https://localhost:8080/"
        },
        "id": "I5EKEPiXs-SK",
        "outputId": "45b91e1f-d8f5-463e-89c4-711b94570b60"
      },
      "execution_count": null,
      "outputs": [
        {
          "output_type": "stream",
          "name": "stdout",
          "text": [
            "33/33 [==============================] - 4s 59ms/step - loss: 2.6984e-04 - accuracy: 1.0000\n",
            "19/19 [==============================] - 2s 85ms/step - loss: 0.0556 - accuracy: 0.9700\n",
            "11/11 [==============================] - 1s 60ms/step - loss: 0.0883 - accuracy: 0.9543\n"
          ]
        }
      ]
    },
    {
      "cell_type": "code",
      "source": [
        "lr_probs = old_model.predict_on_batch(X_test)"
      ],
      "metadata": {
        "id": "2SLUu-IIxJQg"
      },
      "execution_count": null,
      "outputs": []
    },
    {
      "cell_type": "code",
      "source": [
        "from sklearn.multiclass import OneVsRestClassifier\n",
        "from sklearn.metrics import roc_auc_score\n",
        "from sklearn.metrics import roc_curve, auc\n",
        "fpr = dict()\n",
        "tpr = dict()\n",
        "roc_auc = dict()\n",
        "for i in range(n_classes):\n",
        "    fpr[i], tpr[i], _ = roc_curve(Y_test[:, i], lr_probs[:, i])\n",
        "    roc_auc[i] = auc(fpr[i], tpr[i])\n",
        "    \n",
        "\n",
        "# Compute micro-average ROC curve and ROC area\n",
        "fpr[\"micro\"], tpr[\"micro\"], _ = roc_curve(Y_test.ravel(), lr_probs.ravel())\n",
        "roc_auc[\"micro\"] = auc(fpr[\"micro\"], tpr[\"micro\"])"
      ],
      "metadata": {
        "id": "FrHAuGt7sCJ5"
      },
      "execution_count": null,
      "outputs": []
    },
    {
      "cell_type": "code",
      "source": [
        "plt.figure()\n",
        "lw = 2\n",
        "plt.subplot(2,2,1)\n",
        "plt.plot(\n",
        "    fpr[0],\n",
        "    tpr[0],\n",
        "    color=\"darkorange\",\n",
        "    lw=lw,\n",
        "    label=\"ROC curve (area = %0.3f)\" % roc_auc[0],\n",
        ")\n",
        "plt.plot([0, 1], [0, 1], color=\"navy\", lw=lw, linestyle=\"--\")\n",
        "plt.xlim([0.0, 1.0])\n",
        "plt.ylim([0.0, 1.05])\n",
        "plt.xlabel(\"False Positive Rate\")\n",
        "plt.ylabel(\"True Positive Rate\")\n",
        "plt.title(\"Benign - ROC\")\n",
        "plt.legend(loc=\"lower right\")\n",
        "plt.show()\n",
        "\n",
        "plt.subplot(2,2,2)\n",
        "plt.plot(\n",
        "    fpr[1],\n",
        "    tpr[1],\n",
        "    color=\"darkorange\",\n",
        "    lw=lw,\n",
        "    label=\"ROC curve (area = %0.3f)\" % roc_auc[1],\n",
        ")\n",
        "plt.plot([0, 1], [0, 1], color=\"navy\", lw=lw, linestyle=\"--\")\n",
        "plt.xlim([0.0, 1.0])\n",
        "plt.ylim([0.0, 1.05])\n",
        "plt.xlabel(\"False Positive Rate\")\n",
        "plt.ylabel(\"True Positive Rate\")\n",
        "plt.title(\"Early - ROC\")\n",
        "plt.legend(loc=\"lower right\")\n",
        "plt.show()\n",
        "\n",
        "plt.subplot(2,2,3)\n",
        "plt.plot(\n",
        "    fpr[2],\n",
        "    tpr[2],\n",
        "    color=\"darkorange\",\n",
        "    lw=lw,\n",
        "    label=\"ROC curve (area = %0.3f)\" % roc_auc[2],\n",
        ")\n",
        "plt.plot([0, 1], [0, 1], color=\"navy\", lw=lw, linestyle=\"--\")\n",
        "plt.xlim([0.0, 1.0])\n",
        "plt.ylim([0.0, 1.05])\n",
        "plt.xlabel(\"False Positive Rate\")\n",
        "plt.ylabel(\"True Positive Rate\")\n",
        "plt.title(\"Pre - ROC\")\n",
        "plt.legend(loc=\"lower right\")\n",
        "plt.show()\n",
        "\n",
        "\n",
        "plt.subplot(2,2,4)\n",
        "plt.plot(\n",
        "    fpr[3],\n",
        "    tpr[3],\n",
        "    color=\"darkorange\",\n",
        "    lw=lw,\n",
        "    label=\"ROC curve = (area = %0.3f)\" % roc_auc[3],\n",
        ")\n",
        "\n",
        "plt.plot([0, 1], [0, 1], color=\"navy\", lw=lw, linestyle=\"--\")\n",
        "plt.xlim([0.0, 1.0])\n",
        "plt.ylim([0.0, 1.05])\n",
        "plt.xlabel(\"False Positive Rate\")\n",
        "plt.ylabel(\"True Positive Rate\")\n",
        "plt.title(\"Pro -ROC\")\n",
        "plt.legend(loc=\"lower right\")\n",
        "plt.show()"
      ],
      "metadata": {
        "colab": {
          "base_uri": "https://localhost:8080/",
          "height": 657
        },
        "id": "Bums8l91xnLL",
        "outputId": "1ad90ffa-69f9-49f5-9dad-1ee16ca8146c"
      },
      "execution_count": null,
      "outputs": [
        {
          "output_type": "display_data",
          "data": {
            "text/plain": [
              "<Figure size 432x288 with 1 Axes>"
            ],
            "image/png": "[encoded data removed]"
          },
          "metadata": {
            "needs_background": "light"
          }
        },
        {
          "output_type": "display_data",
          "data": {
            "text/plain": [
              "<Figure size 432x288 with 1 Axes>"
            ],
            "image/png": "[encoded data removed]"
          },
          "metadata": {
            "needs_background": "light"
          }
        },
        {
          "output_type": "display_data",
          "data": {
            "text/plain": [
              "<Figure size 432x288 with 1 Axes>"
            ],
            "image/png": "[encoded data removed]"
          },
          "metadata": {
            "needs_background": "light"
          }
        },
        {
          "output_type": "display_data",
          "data": {
            "text/plain": [
              "<Figure size 432x288 with 1 Axes>"
            ],
            "image/png": "[encoded data removed]"
          },
          "metadata": {
            "needs_background": "light"
          }
        }
      ]
    },
    {
      "cell_type": "code",
      "source": [
        "roc_auc"
      ],
      "metadata": {
        "colab": {
          "base_uri": "https://localhost:8080/"
        },
        "id": "j6Ye2qDEzCYx",
        "outputId": "0fe12c1c-136e-4941-dd2a-6da579fcaca9"
      },
      "execution_count": null,
      "outputs": [
        {
          "output_type": "execute_result",
          "data": {
            "text/plain": [
              "{0: 0.9965477723227549,\n",
              " 1: 0.9968171871891784,\n",
              " 2: 0.9989288516082312,\n",
              " 3: 0.9996740740740742,\n",
              " 'micro': 0.9980601851851851}"
            ]
          },
          "metadata": {},
          "execution_count": 30
        }
      ]
    },
    {
      "cell_type": "code",
      "execution_count": null,
      "metadata": {
        "colab": {
          "base_uri": "https://localhost:8080/",
          "height": 295
        },
        "id": "RN4BbWUNdtda",
        "outputId": "9012804e-3fdd-4d5a-9d18-5d1bd847b364"
      },
      "outputs": [
        {
          "output_type": "display_data",
          "data": {
            "text/plain": [
              "<Figure size 432x288 with 1 Axes>"
            ],
            "image/png": "[encoded data removed]"
          },
          "metadata": {
            "needs_background": "light"
          }
        }
      ],
      "source": [
        "loss_train = history.history['loss']\n",
        "loss_val = history.history['val_loss']\n",
        "epochs = range(1,21)\n",
        "plt.plot(epochs, loss_train, 'g', label='Training loss')\n",
        "plt.plot(epochs, loss_val, 'b', label='validation loss')\n",
        "plt.title('Training and Validation loss')\n",
        "plt.xlabel('Epochs')\n",
        "plt.ylabel('Loss')\n",
        "plt.legend()\n",
        "plt.show()"
      ]
    },
    {
      "cell_type": "code",
      "source": [
        "loss_train = history.history['loss']\n",
        "loss_val = history.history['val_loss']\n",
        "epochs = range(1,31)\n",
        "plt.plot(epochs, loss_train, 'g', label='Training loss')\n",
        "plt.plot(epochs, loss_val, 'b', label='validation loss')\n",
        "plt.title('Training and Validation loss')\n",
        "plt.xlabel('Epochs')\n",
        "plt.ylabel('Loss')\n",
        "plt.legend()\n",
        "plt.show()"
      ],
      "metadata": {
        "colab": {
          "base_uri": "https://localhost:8080/",
          "height": 295
        },
        "id": "l3g2hXhS1jMs",
        "outputId": "66bd01d7-1e7c-456b-e473-bc54baa88b2b"
      },
      "execution_count": null,
      "outputs": [
        {
          "output_type": "display_data",
          "data": {
            "text/plain": [
              "<Figure size 432x288 with 1 Axes>"
            ],
            "image/png": "[encoded data removed]"
          },
          "metadata": {
            "needs_background": "light"
          }
        }
      ]
    },
    {
      "cell_type": "code",
      "execution_count": null,
      "metadata": {
        "id": "4R72S2MceUbo",
        "colab": {
          "base_uri": "https://localhost:8080/",
          "height": 295
        },
        "outputId": "922ac0d6-b4bf-409f-9259-571496f2893a"
      },
      "outputs": [
        {
          "output_type": "display_data",
          "data": {
            "text/plain": [
              "<Figure size 432x288 with 1 Axes>"
            ],
            "image/png": "[encoded data removed]"
          },
          "metadata": {
            "needs_background": "light"
          }
        }
      ],
      "source": [
        "loss_train = history.history['accuracy']\n",
        "loss_val = history.history['val_accuracy']\n",
        "epochs = range(1,21)\n",
        "plt.plot(epochs, loss_train, 'g', label='Training accuracy')\n",
        "plt.plot(epochs, loss_val, 'b', label='validation accuracy')\n",
        "plt.title('Training and Validation accuracy')\n",
        "plt.xlabel('Epochs')\n",
        "plt.ylabel('Accuracy')\n",
        "plt.legend()\n",
        "plt.show()"
      ]
    },
    {
      "cell_type": "code",
      "source": [
        "loss_train = history.history['accuracy']\n",
        "loss_val = history.history['val_accuracy']\n",
        "epochs = range(1,31)\n",
        "plt.plot(epochs, loss_train, 'g', label='Training accuracy')\n",
        "plt.plot(epochs, loss_val, 'b', label='validation accuracy')\n",
        "plt.title('Training and Validation accuracy')\n",
        "plt.xlabel('Epochs')\n",
        "plt.ylabel('Accuracy')\n",
        "plt.legend()\n",
        "plt.show()"
      ],
      "metadata": {
        "colab": {
          "base_uri": "https://localhost:8080/",
          "height": 295
        },
        "id": "8XnWsaIe3zMR",
        "outputId": "301c1daa-14c4-4bc2-bb35-5c2fae0468d6"
      },
      "execution_count": null,
      "outputs": [
        {
          "output_type": "display_data",
          "data": {
            "text/plain": [
              "<Figure size 432x288 with 1 Axes>"
            ],
            "image/png": "[encoded data removed]"
          },
          "metadata": {
            "needs_background": "light"
          }
        }
      ]
    },
    {
      "cell_type": "code",
      "source": [
        "! which python "
      ],
      "metadata": {
        "id": "ZF_np24ZAfwM",
        "outputId": "314f109f-8d47-47c4-ed36-a11dfc66355f",
        "colab": {
          "base_uri": "https://localhost:8080/"
        }
      },
      "execution_count": null,
      "outputs": [
        {
          "output_type": "stream",
          "name": "stdout",
          "text": [
            "/usr/local/bin/python\n"
          ]
        }
      ]
    },
    {
      "cell_type": "code",
      "execution_count": null,
      "metadata": {
        "colab": {
          "base_uri": "https://localhost:8080/"
        },
        "id": "tjHMpxfoiK4_",
        "outputId": "67cae267-3882-46f5-d642-699e40ea3ef3"
      },
      "outputs": [
        {
          "output_type": "stream",
          "name": "stdout",
          "text": [
            "33/33 [==============================] - 4s 96ms/step - loss: 0.0025 - accuracy: 1.0000\n",
            "19/19 [==============================] - 3s 162ms/step - loss: 0.2468 - accuracy: 0.9167\n",
            "11/11 [==============================] - 1s 95ms/step - loss: 0.2211 - accuracy: 0.9229\n"
          ]
        }
      ],
      "source": [
        "train_perf = model.evaluate(X_train, Y_train)\n",
        "test_perf = model.evaluate(X_test, Y_test)\n",
        "val_perf = model.evaluate(X_val, Y_val)"
      ]
    },
    {
      "cell_type": "code",
      "execution_count": null,
      "metadata": {
        "id": "mi4wUlJ2lvVA"
      },
      "outputs": [],
      "source": [
        "from sklearn.metrics import confusion_matrix\n",
        "predicted = old_model.predict(X_test)\n",
        "predicted = np.round(predicted)"
      ]
    },
    {
      "cell_type": "code",
      "execution_count": null,
      "metadata": {
        "id": "qC1Ba7IZIvm9",
        "colab": {
          "base_uri": "https://localhost:8080/"
        },
        "outputId": "fd6abe52-b198-4c6b-f713-cc9d321a02cc"
      },
      "outputs": [
        {
          "output_type": "execute_result",
          "data": {
            "text/plain": [
              "(600,)"
            ]
          },
          "metadata": {},
          "execution_count": 30
        }
      ],
      "source": [
        "a = predicted.argmax(1)\n",
        "a.shape"
      ]
    },
    {
      "cell_type": "code",
      "execution_count": null,
      "metadata": {
        "id": "8sPUZpBFNfgm"
      },
      "outputs": [],
      "source": [
        "a = a+1"
      ]
    },
    {
      "cell_type": "code",
      "execution_count": null,
      "metadata": {
        "id": "KtfTR9uROhNl"
      },
      "outputs": [],
      "source": [
        "t = Y_test.argmax(1)"
      ]
    },
    {
      "cell_type": "code",
      "execution_count": null,
      "metadata": {
        "id": "5DV7-C1jPGpI"
      },
      "outputs": [],
      "source": [
        "t = t+1"
      ]
    },
    {
      "cell_type": "code",
      "execution_count": null,
      "metadata": {
        "id": "2lGlCZqEPIPO",
        "colab": {
          "base_uri": "https://localhost:8080/"
        },
        "outputId": "4462ae36-440e-4842-93a4-2a9f4ed6f72e"
      },
      "outputs": [
        {
          "output_type": "stream",
          "name": "stdout",
          "text": [
            "[[155   5   1   0]\n",
            " [  2 135   1   0]\n",
            " [  0   3 142   0]\n",
            " [  4   0   2 150]]\n"
          ]
        }
      ],
      "source": [
        "cm = confusion_matrix(a,t, labels=[1,2,3,4])\n",
        "print(cm)"
      ]
    },
    {
      "cell_type": "code",
      "execution_count": null,
      "metadata": {
        "id": "5wLwfMqWjuiF"
      },
      "outputs": [],
      "source": [
        "def LeukModel(input_size = (128, 128, 3)):\n",
        "    inpu = Input(shape = input_size)\n",
        "\n",
        "    conv0 = Conv2D(8, (3, 3), activation = 'relu') (inpu)\n",
        "    maxpool0 = MaxPooling2D((2,2)) (conv0)\n",
        "    drop0 = Dropout(0.4) (maxpool0)\n",
        "    \n",
        "    conv1 = Conv2D(16, (3, 3), activation = 'relu') (drop0)\n",
        "    maxpool1 = MaxPooling2D((2,2)) (conv1)\n",
        "    drop1 = Dropout(0.4) (maxpool1)\n",
        "    \n",
        "    conv2 = Conv2D(32, (3, 3), activation = 'relu') (drop1)\n",
        "    maxpool2 = MaxPooling2D((2, 2)) (conv2)\n",
        "    drop2 = Dropout(0.4) (maxpool2)\n",
        "    \n",
        "    conv3 = Conv2D(64, (3, 3), activation = 'relu') (drop2)\n",
        "    maxpool3 = MaxPooling2D((2, 2)) (conv3)\n",
        "    drop3 = Dropout(0.4) (maxpool3)\n",
        "    \n",
        "    flat = Flatten() (drop3)\n",
        "    \n",
        "    dense1 = Dense(256, activation = 'relu') (flat)\n",
        "    dense2 = Dense(128, activation = 'relu') (dense1)\n",
        "    dense3 = Dense(64, activation = 'relu') (dense2)\n",
        "    op = Dense(4, activation = 'sigmoid') (dense3)\n",
        "    \n",
        "    model = Model(inpu, op)\n",
        "    \n",
        "    return model"
      ]
    },
    {
      "cell_type": "code",
      "execution_count": null,
      "metadata": {
        "id": "S6Bgq9Ov6x-b",
        "colab": {
          "base_uri": "https://localhost:8080/"
        },
        "outputId": "758e3b84-04af-4c5c-c3a0-537811b03ee7"
      },
      "outputs": [
        {
          "output_type": "stream",
          "name": "stdout",
          "text": [
            "Model: \"model_5\"\n",
            "_________________________________________________________________\n",
            " Layer (type)                Output Shape              Param #   \n",
            "=================================================================\n",
            " input_6 (InputLayer)        [(None, 128, 128, 3)]     0         \n",
            "                                                                 \n",
            " conv2d_136 (Conv2D)         (None, 126, 126, 8)       224       \n",
            "                                                                 \n",
            " max_pooling2d_8 (MaxPooling  (None, 63, 63, 8)        0         \n",
            " 2D)                                                             \n",
            "                                                                 \n",
            " dropout_4 (Dropout)         (None, 63, 63, 8)         0         \n",
            "                                                                 \n",
            " conv2d_137 (Conv2D)         (None, 61, 61, 16)        1168      \n",
            "                                                                 \n",
            " max_pooling2d_9 (MaxPooling  (None, 30, 30, 16)       0         \n",
            " 2D)                                                             \n",
            "                                                                 \n",
            " dropout_5 (Dropout)         (None, 30, 30, 16)        0         \n",
            "                                                                 \n",
            " conv2d_138 (Conv2D)         (None, 28, 28, 32)        4640      \n",
            "                                                                 \n",
            " max_pooling2d_10 (MaxPoolin  (None, 14, 14, 32)       0         \n",
            " g2D)                                                            \n",
            "                                                                 \n",
            " dropout_6 (Dropout)         (None, 14, 14, 32)        0         \n",
            "                                                                 \n",
            " conv2d_139 (Conv2D)         (None, 12, 12, 64)        18496     \n",
            "                                                                 \n",
            " max_pooling2d_11 (MaxPoolin  (None, 6, 6, 64)         0         \n",
            " g2D)                                                            \n",
            "                                                                 \n",
            " dropout_7 (Dropout)         (None, 6, 6, 64)          0         \n",
            "                                                                 \n",
            " flatten_1 (Flatten)         (None, 2304)              0         \n",
            "                                                                 \n",
            " dense_8 (Dense)             (None, 256)               590080    \n",
            "                                                                 \n",
            " dense_9 (Dense)             (None, 128)               32896     \n",
            "                                                                 \n",
            " dense_10 (Dense)            (None, 64)                8256      \n",
            "                                                                 \n",
            " dense_11 (Dense)            (None, 4)                 260       \n",
            "                                                                 \n",
            "=================================================================\n",
            "Total params: 656,020\n",
            "Trainable params: 656,020\n",
            "Non-trainable params: 0\n",
            "_________________________________________________________________\n"
          ]
        }
      ],
      "source": [
        "Leukmodel = LeukModel()\n",
        "Leukmodel.summary()"
      ]
    },
    {
      "cell_type": "code",
      "execution_count": null,
      "metadata": {
        "id": "wt07KmDW7G-d",
        "colab": {
          "base_uri": "https://localhost:8080/"
        },
        "outputId": "b3097450-369b-4b88-dae2-70782312395e"
      },
      "outputs": [
        {
          "output_type": "stream",
          "name": "stdout",
          "text": [
            "Epoch 1/40\n",
            "33/33 [==============================] - 2s 37ms/step - loss: 7.7943 - accuracy: 0.2581 - val_loss: 1.3396 - val_accuracy: 0.3286\n",
            "Epoch 2/40\n",
            "33/33 [==============================] - 1s 20ms/step - loss: 1.4047 - accuracy: 0.3019 - val_loss: 1.3253 - val_accuracy: 0.4429\n",
            "Epoch 3/40\n",
            "33/33 [==============================] - 1s 21ms/step - loss: 1.3547 - accuracy: 0.3390 - val_loss: 1.3010 - val_accuracy: 0.4857\n",
            "Epoch 4/40\n",
            "33/33 [==============================] - 1s 20ms/step - loss: 1.2790 - accuracy: 0.3895 - val_loss: 1.2900 - val_accuracy: 0.4943\n",
            "Epoch 5/40\n",
            "33/33 [==============================] - 1s 22ms/step - loss: 1.2305 - accuracy: 0.4314 - val_loss: 1.2413 - val_accuracy: 0.5200\n",
            "Epoch 6/40\n",
            "33/33 [==============================] - 1s 22ms/step - loss: 1.1787 - accuracy: 0.4590 - val_loss: 1.1939 - val_accuracy: 0.5714\n",
            "Epoch 7/40\n",
            "33/33 [==============================] - 1s 22ms/step - loss: 1.1443 - accuracy: 0.4933 - val_loss: 1.1576 - val_accuracy: 0.5200\n",
            "Epoch 8/40\n",
            "33/33 [==============================] - 1s 22ms/step - loss: 1.0876 - accuracy: 0.5067 - val_loss: 1.1007 - val_accuracy: 0.6086\n",
            "Epoch 9/40\n",
            "33/33 [==============================] - 1s 19ms/step - loss: 1.0546 - accuracy: 0.5248 - val_loss: 1.0334 - val_accuracy: 0.6000\n",
            "Epoch 10/40\n",
            "33/33 [==============================] - 1s 20ms/step - loss: 0.9159 - accuracy: 0.6181 - val_loss: 0.9834 - val_accuracy: 0.5514\n",
            "Epoch 11/40\n",
            "33/33 [==============================] - 1s 21ms/step - loss: 0.8699 - accuracy: 0.6181 - val_loss: 0.8711 - val_accuracy: 0.5686\n",
            "Epoch 12/40\n",
            "33/33 [==============================] - 1s 26ms/step - loss: 0.7936 - accuracy: 0.6819 - val_loss: 0.8055 - val_accuracy: 0.6314\n",
            "Epoch 13/40\n",
            "33/33 [==============================] - 1s 24ms/step - loss: 0.6964 - accuracy: 0.7095 - val_loss: 0.7826 - val_accuracy: 0.6114\n",
            "Epoch 14/40\n",
            "33/33 [==============================] - 1s 24ms/step - loss: 0.6526 - accuracy: 0.7229 - val_loss: 0.7495 - val_accuracy: 0.6629\n",
            "Epoch 15/40\n",
            "33/33 [==============================] - 1s 22ms/step - loss: 0.6437 - accuracy: 0.7171 - val_loss: 0.7534 - val_accuracy: 0.6771\n",
            "Epoch 16/40\n",
            "33/33 [==============================] - 1s 19ms/step - loss: 0.6187 - accuracy: 0.7438 - val_loss: 0.7128 - val_accuracy: 0.7029\n",
            "Epoch 17/40\n",
            "33/33 [==============================] - 1s 22ms/step - loss: 0.5121 - accuracy: 0.7876 - val_loss: 0.7276 - val_accuracy: 0.6943\n",
            "Epoch 18/40\n",
            "33/33 [==============================] - 1s 19ms/step - loss: 0.5476 - accuracy: 0.7648 - val_loss: 0.6613 - val_accuracy: 0.7114\n",
            "Epoch 19/40\n",
            "33/33 [==============================] - 1s 26ms/step - loss: 0.4992 - accuracy: 0.7933 - val_loss: 0.6662 - val_accuracy: 0.7114\n",
            "Epoch 20/40\n",
            "33/33 [==============================] - 1s 25ms/step - loss: 0.4895 - accuracy: 0.7924 - val_loss: 0.6966 - val_accuracy: 0.7114\n",
            "Epoch 21/40\n",
            "33/33 [==============================] - 1s 24ms/step - loss: 0.4504 - accuracy: 0.8019 - val_loss: 0.6298 - val_accuracy: 0.7229\n",
            "Epoch 22/40\n",
            "33/33 [==============================] - 1s 21ms/step - loss: 0.4860 - accuracy: 0.8048 - val_loss: 0.6229 - val_accuracy: 0.7229\n",
            "Epoch 23/40\n",
            "33/33 [==============================] - 1s 22ms/step - loss: 0.4394 - accuracy: 0.8143 - val_loss: 0.7181 - val_accuracy: 0.7314\n",
            "Epoch 24/40\n",
            "33/33 [==============================] - 1s 20ms/step - loss: 0.4069 - accuracy: 0.8248 - val_loss: 0.5678 - val_accuracy: 0.7286\n",
            "Epoch 25/40\n",
            "33/33 [==============================] - 1s 19ms/step - loss: 0.3900 - accuracy: 0.8429 - val_loss: 0.6004 - val_accuracy: 0.7343\n",
            "Epoch 26/40\n",
            "33/33 [==============================] - 1s 19ms/step - loss: 0.4349 - accuracy: 0.8010 - val_loss: 0.6884 - val_accuracy: 0.7257\n",
            "Epoch 27/40\n",
            "33/33 [==============================] - 1s 20ms/step - loss: 0.3690 - accuracy: 0.8543 - val_loss: 0.5902 - val_accuracy: 0.7514\n",
            "Epoch 28/40\n",
            "33/33 [==============================] - 1s 20ms/step - loss: 0.3294 - accuracy: 0.8686 - val_loss: 0.5982 - val_accuracy: 0.7343\n",
            "Epoch 29/40\n",
            "33/33 [==============================] - 1s 20ms/step - loss: 0.3735 - accuracy: 0.8524 - val_loss: 0.6229 - val_accuracy: 0.7600\n",
            "Epoch 30/40\n",
            "33/33 [==============================] - 1s 20ms/step - loss: 0.3830 - accuracy: 0.8448 - val_loss: 0.6114 - val_accuracy: 0.7800\n",
            "Epoch 31/40\n",
            "33/33 [==============================] - 1s 20ms/step - loss: 0.2994 - accuracy: 0.8771 - val_loss: 0.6168 - val_accuracy: 0.7486\n",
            "Epoch 32/40\n",
            "33/33 [==============================] - 1s 22ms/step - loss: 0.3207 - accuracy: 0.8733 - val_loss: 0.5816 - val_accuracy: 0.7543\n",
            "Epoch 33/40\n",
            "33/33 [==============================] - 1s 20ms/step - loss: 0.2820 - accuracy: 0.8914 - val_loss: 0.7951 - val_accuracy: 0.7743\n",
            "Epoch 34/40\n",
            "33/33 [==============================] - 1s 20ms/step - loss: 0.2829 - accuracy: 0.8838 - val_loss: 0.7157 - val_accuracy: 0.7200\n",
            "Epoch 35/40\n",
            "33/33 [==============================] - 1s 22ms/step - loss: 0.3151 - accuracy: 0.8857 - val_loss: 0.6843 - val_accuracy: 0.7686\n",
            "Epoch 36/40\n",
            "33/33 [==============================] - 1s 20ms/step - loss: 0.2470 - accuracy: 0.8914 - val_loss: 0.8006 - val_accuracy: 0.7714\n",
            "Epoch 37/40\n",
            "33/33 [==============================] - 1s 22ms/step - loss: 0.2645 - accuracy: 0.8990 - val_loss: 0.5662 - val_accuracy: 0.8029\n",
            "Epoch 38/40\n",
            "33/33 [==============================] - 1s 22ms/step - loss: 0.2247 - accuracy: 0.9086 - val_loss: 0.6514 - val_accuracy: 0.8029\n",
            "Epoch 39/40\n",
            "33/33 [==============================] - 1s 20ms/step - loss: 0.1771 - accuracy: 0.9448 - val_loss: 0.4170 - val_accuracy: 0.8686\n",
            "Epoch 40/40\n",
            "33/33 [==============================] - 1s 22ms/step - loss: 0.2757 - accuracy: 0.8933 - val_loss: 0.6438 - val_accuracy: 0.7886\n"
          ]
        }
      ],
      "source": [
        "Leukmodel.compile(loss = 'categorical_crossentropy', optimizer = keras.optimizers.Adam(0.001), metrics = ['accuracy'])\n",
        "history = Leukmodel.fit(X_train, Y_train, validation_data = (X_val, Y_val), epochs = 40, batch_size = 32, shuffle = True)"
      ]
    },
    {
      "cell_type": "code",
      "execution_count": null,
      "metadata": {
        "id": "ro_4EsXr7eaO"
      },
      "outputs": [],
      "source": [
        "train_perf = Leukmodel.evaluate(X_train, Y_train)\n",
        "test_perf = Leukmodel.evaluate(X_test, Y_test)\n",
        "val_perf = Leukmodel.evaluate(X_val, Y_val)"
      ]
    },
    {
      "cell_type": "code",
      "execution_count": null,
      "metadata": {
        "id": "DQr_tgEed5F5"
      },
      "outputs": [],
      "source": [
        "model.save('/content/drive/MyDrive/Colab Notebooks/dense_model.h5') "
      ]
    }
  ],
  "metadata": {
    "accelerator": "GPU",
    "colab": {
      "collapsed_sections": [],
      "name": "ALL.ipynb",
      "provenance": []
    },
    "kernelspec": {
      "display_name": "Python 3",
      "name": "python3"
    },
    "language_info": {
      "name": "python"
    }
  },
  "nbformat": 4,
  "nbformat_minor": 0
}